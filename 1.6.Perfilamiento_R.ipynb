{
 "cells": [
  {
   "cell_type": "markdown",
   "metadata": {},
   "source": [
    "# Perfilamiento de código en R"
   ]
  },
  {
   "cell_type": "markdown",
   "metadata": {},
   "source": [
    "También podemos medir tiempos con el paquete [tictoc](https://www.rdocumentation.org/packages/tictoc/versions/1.0):"
   ]
  },
  {
   "cell_type": "code",
   "execution_count": null,
   "metadata": {},
   "outputs": [],
   "source": [
    "install.packages(\"tictoc\",lib=\"/usr/local/lib/R/site-library/\",\n",
    "                repos=\"https://cran.itam.mx/\",verbose=TRUE)"
   ]
  },
  {
   "cell_type": "markdown",
   "metadata": {},
   "source": [
    "**Ejemplo:**"
   ]
  },
  {
   "cell_type": "code",
   "execution_count": 1,
   "metadata": {},
   "outputs": [],
   "source": [
    "library(tictoc)"
   ]
  },
  {
   "cell_type": "markdown",
   "metadata": {},
   "source": [
    "### 3) Regla compuesta del rectángulo"
   ]
  },
  {
   "cell_type": "code",
   "execution_count": 49,
   "metadata": {},
   "outputs": [],
   "source": [
    "f<-function(x)exp(-x**2)"
   ]
  },
  {
   "cell_type": "code",
   "execution_count": 48,
   "metadata": {},
   "outputs": [],
   "source": [
    "a<-0\n",
    "b<-1\n",
    "n<-10**6\n",
    "h_hat<-(b-a)/n"
   ]
  },
  {
   "cell_type": "markdown",
   "metadata": {},
   "source": [
    "**Forma secuencial**"
   ]
  },
  {
   "cell_type": "code",
   "execution_count": 50,
   "metadata": {},
   "outputs": [],
   "source": [
    "Rcf1<-function(f,a,b,n){\n",
    "    #Compute numerical approximation using rectangle or mid-point method in \n",
    "    #an interval.\n",
    "    #Nodes are generated via formula: x_i = a+(i+1/2)h_hat for i=0,1,...,n-1 and h_hat=(b-a)/n\n",
    "    #Args:\n",
    "    #    f (function): function of integrand\n",
    "    #    a (int): left point of interval\n",
    "    #    b (int): right point of interval\n",
    "    #    n (int): number of subintervals\n",
    "    #Returns:\n",
    "    #    Rcf (float)\n",
    "    h_hat<-(b-a)/n\n",
    "    sum_res<-0\n",
    "    for(j in 0:(n-1)){\n",
    "        x<-a+(j+1/2.0)*h_hat\n",
    "        sum_res<-sum_res+f(x)\n",
    "    }\n",
    "    h_hat*sum_res\n",
    "}"
   ]
  },
  {
   "cell_type": "code",
   "execution_count": 51,
   "metadata": {},
   "outputs": [
    {
     "data": {
      "text/plain": [
       "   user  system elapsed \n",
       "  0.578   0.000   0.617 "
      ]
     },
     "metadata": {},
     "output_type": "display_data"
    }
   ],
   "source": [
    "system.time(aprox<-Rcf1(f,a,b,n))"
   ]
  },
  {
   "cell_type": "code",
   "execution_count": 6,
   "metadata": {},
   "outputs": [],
   "source": [
    "err_relativo<-function(aprox,obj)abs(aprox-obj)/abs(obj)"
   ]
  },
  {
   "cell_type": "code",
   "execution_count": 7,
   "metadata": {},
   "outputs": [],
   "source": [
    "obj<-integrate(Vectorize(f),a,b) #en la documentación de integrate\n",
    "                                 #se menciona que se utilice Vectorize"
   ]
  },
  {
   "cell_type": "code",
   "execution_count": 8,
   "metadata": {},
   "outputs": [
    {
     "data": {
      "text/html": [
       "6.71939731300312e-14"
      ],
      "text/latex": [
       "6.71939731300312e-14"
      ],
      "text/markdown": [
       "6.71939731300312e-14"
      ],
      "text/plain": [
       "[1] 6.719397e-14"
      ]
     },
     "metadata": {},
     "output_type": "display_data"
    }
   ],
   "source": [
    "err_relativo(aprox,obj$value)"
   ]
  },
  {
   "cell_type": "code",
   "execution_count": 12,
   "metadata": {},
   "outputs": [
    {
     "data": {
      "text/html": [
       "0.746824132812477"
      ],
      "text/latex": [
       "0.746824132812477"
      ],
      "text/markdown": [
       "0.746824132812477"
      ],
      "text/plain": [
       "[1] 0.7468241"
      ]
     },
     "metadata": {},
     "output_type": "display_data"
    },
    {
     "name": "stdout",
     "output_type": "stream",
     "text": [
      "medición de tiempo de regla de trapecio secuencial con tictoc: 0.637 sec elapsed\n",
      "medición de sleep + regla del trapecio secuencial: 1.655 sec elapsed\n"
     ]
    }
   ],
   "source": [
    "tic(\"medición de sleep + regla del trapecio secuencial\")\n",
    "tic(\"medición de tiempo de regla de trapecio secuencial con tictoc\")\n",
    "tic()\n",
    "Rcf1(f,a,b,n)\n",
    "toc()\n",
    "Sys.sleep(1)\n",
    "toc()"
   ]
  },
  {
   "cell_type": "markdown",
   "metadata": {},
   "source": [
    "## Simpson's Rule"
   ]
  },
  {
   "cell_type": "code",
   "execution_count": 88,
   "metadata": {},
   "outputs": [],
   "source": [
    "f <- function(x) {\n",
    "  return(x * sin(x))\n",
    "}\n",
    "a=0\n",
    "b=pi/4"
   ]
  },
  {
   "cell_type": "code",
   "execution_count": 89,
   "metadata": {},
   "outputs": [
    {
     "data": {
      "text/html": [
       "0.15138262891904"
      ],
      "text/latex": [
       "0.15138262891904"
      ],
      "text/markdown": [
       "0.15138262891904"
      ],
      "text/plain": [
       "[1] 0.1513826"
      ]
     },
     "metadata": {},
     "output_type": "display_data"
    }
   ],
   "source": [
    "simpsons_rule <- function(f, a, b) {\n",
    "  if (is.function(f) == FALSE) {\n",
    "    stop('f must be a function with one parameter (variable)')\n",
    "  }\n",
    "   \n",
    "  h <- (b - a) / 2\n",
    "  x0 <- a\n",
    "  x1 <- a + h\n",
    "  x2 <- a+ 2*h\n",
    "   \n",
    "  s <- (h / 3) * (f(x0) + 4 * f(x1) + f(x2))\n",
    "   \n",
    "  return(s)\n",
    "}\n",
    "simpsons_rule(f,a,b)"
   ]
  },
  {
   "cell_type": "code",
   "execution_count": 90,
   "metadata": {},
   "outputs": [
    {
     "data": {
      "text/plain": [
       "   user  system elapsed \n",
       "  0.009   0.000   0.009 "
      ]
     },
     "metadata": {},
     "output_type": "display_data"
    }
   ],
   "source": [
    "system.time(aprox<-simpsons_rule(f,a,b))"
   ]
  },
  {
   "cell_type": "code",
   "execution_count": 92,
   "metadata": {},
   "outputs": [],
   "source": [
    "err_relativo<-function(aprox,obj)abs(aprox-obj)/abs(obj)"
   ]
  },
  {
   "cell_type": "code",
   "execution_count": 94,
   "metadata": {},
   "outputs": [],
   "source": [
    "obj<-integrate(Vectorize(f),a,b) #en la documentación de integrate\n",
    "               "
   ]
  },
  {
   "cell_type": "code",
   "execution_count": 95,
   "metadata": {},
   "outputs": [
    {
     "data": {
      "text/html": [
       "0.00239732187616321"
      ],
      "text/latex": [
       "0.00239732187616321"
      ],
      "text/markdown": [
       "0.00239732187616321"
      ],
      "text/plain": [
       "[1] 0.002397322"
      ]
     },
     "metadata": {},
     "output_type": "display_data"
    }
   ],
   "source": [
    "err_relativo(aprox,obj$value)"
   ]
  },
  {
   "cell_type": "code",
   "execution_count": 100,
   "metadata": {},
   "outputs": [],
   "source": [
    "simpsons_rule <- function(f, a, b) {\n",
    "  if (is.function(f) == FALSE) {\n",
    "    stop('f must be a function with one parameter (variable)')\n",
    "  }\n",
    "   \n",
    "  h <- (b - a) / 2\n",
    "  x0 <- a\n",
    "  x1 <- a + h\n",
    "  x2 <- b\n",
    "   \n",
    "  s <- (h / 3) * (f(x0) + 4 * f(x1) + f(x2))\n",
    "   \n",
    "  return(s)\n",
    "}"
   ]
  },
  {
   "cell_type": "code",
   "execution_count": 101,
   "metadata": {},
   "outputs": [
    {
     "data": {
      "text/html": [
       "0.15138262891904"
      ],
      "text/latex": [
       "0.15138262891904"
      ],
      "text/markdown": [
       "0.15138262891904"
      ],
      "text/plain": [
       "[1] 0.1513826"
      ]
     },
     "metadata": {},
     "output_type": "display_data"
    }
   ],
   "source": [
    "simpsons_rule(f,a,b)"
   ]
  },
  {
   "cell_type": "code",
   "execution_count": 102,
   "metadata": {},
   "outputs": [
    {
     "data": {
      "text/plain": [
       "   user  system elapsed \n",
       "  0.007   0.000   0.007 "
      ]
     },
     "metadata": {},
     "output_type": "display_data"
    }
   ],
   "source": [
    "system.time(aprox<-simpsons_rule(f,a,b))"
   ]
  },
  {
   "cell_type": "code",
   "execution_count": 104,
   "metadata": {},
   "outputs": [
    {
     "data": {
      "text/html": [
       "0.00239732187616321"
      ],
      "text/latex": [
       "0.00239732187616321"
      ],
      "text/markdown": [
       "0.00239732187616321"
      ],
      "text/plain": [
       "[1] 0.002397322"
      ]
     },
     "metadata": {},
     "output_type": "display_data"
    }
   ],
   "source": [
    "err_relativo(aprox,obj$value)"
   ]
  },
  {
   "cell_type": "code",
   "execution_count": 79,
   "metadata": {},
   "outputs": [
    {
     "data": {
      "text/html": [
       "0.15138262891904"
      ],
      "text/latex": [
       "0.15138262891904"
      ],
      "text/markdown": [
       "0.15138262891904"
      ],
      "text/plain": [
       "[1] 0.1513826"
      ]
     },
     "metadata": {},
     "output_type": "display_data"
    }
   ],
   "source": [
    "\n",
    "simpsons_rule <- function(f, a, b) {\n",
    "  if (is.function(f) == FALSE) {\n",
    "    stop('f must be a function with one parameter (variable)')\n",
    "  }\n",
    "      s <- ((b - a) / 6) * (f(a) + 4 * f((a+b)/2) + f(b))\n",
    "  return(s)\n",
    "}\n",
    "simpsons(f,a,b)"
   ]
  },
  {
   "cell_type": "code",
   "execution_count": 80,
   "metadata": {},
   "outputs": [
    {
     "data": {
      "text/plain": [
       "   user  system elapsed \n",
       "      0       0       0 "
      ]
     },
     "metadata": {},
     "output_type": "display_data"
    }
   ],
   "source": [
    "system.time(aprox<-simpsons_rule(f,a,b))"
   ]
  },
  {
   "cell_type": "code",
   "execution_count": 105,
   "metadata": {},
   "outputs": [
    {
     "data": {
      "text/html": [
       "0.00239732187616321"
      ],
      "text/latex": [
       "0.00239732187616321"
      ],
      "text/markdown": [
       "0.00239732187616321"
      ],
      "text/plain": [
       "[1] 0.002397322"
      ]
     },
     "metadata": {},
     "output_type": "display_data"
    }
   ],
   "source": [
    "err_relativo(aprox,obj$value)"
   ]
  }
 ],
 "metadata": {
  "kernelspec": {
   "display_name": "R",
   "language": "R",
   "name": "ir"
  },
  "language_info": {
   "codemirror_mode": "r",
   "file_extension": ".r",
   "mimetype": "text/x-r-source",
   "name": "R",
   "pygments_lexer": "r",
   "version": "3.6.1"
  }
 },
 "nbformat": 4,
 "nbformat_minor": 4
}
